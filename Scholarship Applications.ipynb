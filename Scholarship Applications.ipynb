{
 "cells": [
  {
   "cell_type": "markdown",
   "id": "81fea935-726e-434b-b0b8-bb4c86bd6d6c",
   "metadata": {},
   "source": [
    "# Data Exploration & Cleaning"
   ]
  },
  {
   "cell_type": "markdown",
   "id": "3c1e07e1-cef0-4a33-8230-01a5a1759935",
   "metadata": {},
   "source": [
    "## Step 1: Load the Data"
   ]
  },
  {
   "cell_type": "code",
   "execution_count": 27,
   "id": "913b211c-949e-4f06-8b4e-4da3f0369e89",
   "metadata": {},
   "outputs": [
    {
     "data": {
      "text/html": [
       "<div>\n",
       "<style scoped>\n",
       "    .dataframe tbody tr th:only-of-type {\n",
       "        vertical-align: middle;\n",
       "    }\n",
       "\n",
       "    .dataframe tbody tr th {\n",
       "        vertical-align: top;\n",
       "    }\n",
       "\n",
       "    .dataframe thead th {\n",
       "        text-align: right;\n",
       "    }\n",
       "</style>\n",
       "<table border=\"1\" class=\"dataframe\">\n",
       "  <thead>\n",
       "    <tr style=\"text-align: right;\">\n",
       "      <th></th>\n",
       "      <th>Unnamed: 0</th>\n",
       "      <th>Date of Birth</th>\n",
       "      <th>Gender</th>\n",
       "      <th>State of Origin</th>\n",
       "      <th>Local Government Area</th>\n",
       "      <th>Has Laptop</th>\n",
       "      <th>Marital Status</th>\n",
       "      <th>Highest Educational Qualification</th>\n",
       "      <th>Physically Challenged</th>\n",
       "      <th>Nature of Physical Challenge</th>\n",
       "      <th>ICT Proficiency</th>\n",
       "      <th>Time Available for Training</th>\n",
       "      <th>Course of Interest</th>\n",
       "      <th>Employment Status</th>\n",
       "      <th>Declaration</th>\n",
       "      <th>Registered Date</th>\n",
       "    </tr>\n",
       "  </thead>\n",
       "  <tbody>\n",
       "    <tr>\n",
       "      <th>0</th>\n",
       "      <td>0</td>\n",
       "      <td>2/17/1980</td>\n",
       "      <td>male</td>\n",
       "      <td>Benue</td>\n",
       "      <td>Gboko</td>\n",
       "      <td>yes</td>\n",
       "      <td>married</td>\n",
       "      <td>Bachelor's Degree</td>\n",
       "      <td>no</td>\n",
       "      <td>NaN</td>\n",
       "      <td>1</td>\n",
       "      <td>12-Sep</td>\n",
       "      <td>Data Analysis Using SPSS</td>\n",
       "      <td>employee</td>\n",
       "      <td>Yes</td>\n",
       "      <td>7/28/2024 11:23</td>\n",
       "    </tr>\n",
       "    <tr>\n",
       "      <th>1</th>\n",
       "      <td>1</td>\n",
       "      <td>6/27/1989</td>\n",
       "      <td>male</td>\n",
       "      <td>Benue</td>\n",
       "      <td>Makurdi</td>\n",
       "      <td>yes</td>\n",
       "      <td>married</td>\n",
       "      <td>Bachelor's Degree</td>\n",
       "      <td>no</td>\n",
       "      <td>NaN</td>\n",
       "      <td>4</td>\n",
       "      <td>12-Sep</td>\n",
       "      <td>Data Analysis Using Python</td>\n",
       "      <td>unemployed</td>\n",
       "      <td>Yes</td>\n",
       "      <td>7/25/2024 12:45</td>\n",
       "    </tr>\n",
       "    <tr>\n",
       "      <th>2</th>\n",
       "      <td>2</td>\n",
       "      <td>5/21/1994</td>\n",
       "      <td>male</td>\n",
       "      <td>BENUE</td>\n",
       "      <td>UKUM</td>\n",
       "      <td>no</td>\n",
       "      <td>single</td>\n",
       "      <td>National Diploma</td>\n",
       "      <td>no</td>\n",
       "      <td>NaN</td>\n",
       "      <td>1</td>\n",
       "      <td>12-Sep</td>\n",
       "      <td>Basic Computer Skills</td>\n",
       "      <td>employee</td>\n",
       "      <td>Yes</td>\n",
       "      <td>7/29/2024 19:33</td>\n",
       "    </tr>\n",
       "    <tr>\n",
       "      <th>3</th>\n",
       "      <td>3</td>\n",
       "      <td>10/31/1989</td>\n",
       "      <td>female</td>\n",
       "      <td>Benue</td>\n",
       "      <td>Vandeikya</td>\n",
       "      <td>yes</td>\n",
       "      <td>single</td>\n",
       "      <td>Bachelor's Degree</td>\n",
       "      <td>no</td>\n",
       "      <td>NaN</td>\n",
       "      <td>5</td>\n",
       "      <td>12-Sep</td>\n",
       "      <td>Data Analysis Using SPSS</td>\n",
       "      <td>student</td>\n",
       "      <td>Yes</td>\n",
       "      <td>7/30/2024 13:26</td>\n",
       "    </tr>\n",
       "    <tr>\n",
       "      <th>4</th>\n",
       "      <td>4</td>\n",
       "      <td>2/25/1996</td>\n",
       "      <td>male</td>\n",
       "      <td>Benue</td>\n",
       "      <td>Ukum</td>\n",
       "      <td>no</td>\n",
       "      <td>single</td>\n",
       "      <td>Senior School Certificate</td>\n",
       "      <td>no</td>\n",
       "      <td>NaN</td>\n",
       "      <td>5</td>\n",
       "      <td>4-Jan</td>\n",
       "      <td>Basic Computer Skills</td>\n",
       "      <td>student</td>\n",
       "      <td>Yes</td>\n",
       "      <td>7/26/2024 8:53</td>\n",
       "    </tr>\n",
       "  </tbody>\n",
       "</table>\n",
       "</div>"
      ],
      "text/plain": [
       "   Unnamed: 0 Date of Birth  Gender State of Origin Local Government Area  \\\n",
       "0           0     2/17/1980    male           Benue                 Gboko   \n",
       "1           1     6/27/1989    male           Benue               Makurdi   \n",
       "2           2     5/21/1994    male           BENUE                  UKUM   \n",
       "3           3    10/31/1989  female           Benue             Vandeikya   \n",
       "4           4     2/25/1996    male           Benue                  Ukum   \n",
       "\n",
       "  Has Laptop Marital Status Highest Educational Qualification  \\\n",
       "0        yes        married                 Bachelor's Degree   \n",
       "1        yes        married                 Bachelor's Degree   \n",
       "2         no         single                  National Diploma   \n",
       "3        yes         single                 Bachelor's Degree   \n",
       "4         no         single         Senior School Certificate   \n",
       "\n",
       "  Physically Challenged Nature of Physical Challenge  ICT Proficiency  \\\n",
       "0                    no                          NaN                1   \n",
       "1                    no                          NaN                4   \n",
       "2                    no                          NaN                1   \n",
       "3                    no                          NaN                5   \n",
       "4                    no                          NaN                5   \n",
       "\n",
       "  Time Available for Training          Course of Interest Employment Status  \\\n",
       "0                      12-Sep    Data Analysis Using SPSS          employee   \n",
       "1                      12-Sep  Data Analysis Using Python        unemployed   \n",
       "2                      12-Sep       Basic Computer Skills          employee   \n",
       "3                      12-Sep    Data Analysis Using SPSS           student   \n",
       "4                       4-Jan       Basic Computer Skills           student   \n",
       "\n",
       "  Declaration  Registered Date  \n",
       "0         Yes  7/28/2024 11:23  \n",
       "1         Yes  7/25/2024 12:45  \n",
       "2         Yes  7/29/2024 19:33  \n",
       "3         Yes  7/30/2024 13:26  \n",
       "4         Yes   7/26/2024 8:53  "
      ]
     },
     "execution_count": 27,
     "metadata": {},
     "output_type": "execute_result"
    }
   ],
   "source": [
    "import pandas as pd\n",
    "import matplotlib.pyplot as plt\n",
    "import seaborn as sns\n",
    "import scipy.stats as stats\n",
    "from scipy.stats import ttest_ind, shapiro, levene, mannwhitneyu\n",
    "from sklearn.linear_model import LinearRegression\n",
    "from sklearn.model_selection import train_test_split\n",
    "from sklearn.metrics import mean_squared_error, r2_score\n",
    "from sklearn.preprocessing import LabelEncoder\n",
    "\n",
    "df = pd.read_csv('Intern/applicants.csv')\n",
    "df.head()"
   ]
  },
  {
   "cell_type": "markdown",
   "id": "883c8ea1-a845-4175-8508-a7c19c3e79c7",
   "metadata": {},
   "source": [
    "# Step 2: Understand the Data"
   ]
  },
  {
   "cell_type": "markdown",
   "id": "e502b5d3-9ec7-4ec2-908d-32f39b7168b3",
   "metadata": {},
   "source": [
    "## ●\tUse .info() to check column names and data types.\n",
    "●\tUse .describe() for summary statistics.\n"
   ]
  },
  {
   "cell_type": "code",
   "execution_count": 3,
   "id": "149cf0ee-7fd0-4e68-874b-9bc5369992ff",
   "metadata": {},
   "outputs": [
    {
     "name": "stdout",
     "output_type": "stream",
     "text": [
      "<class 'pandas.core.frame.DataFrame'>\n",
      "RangeIndex: 462 entries, 0 to 461\n",
      "Data columns (total 16 columns):\n",
      " #   Column                             Non-Null Count  Dtype \n",
      "---  ------                             --------------  ----- \n",
      " 0   Unnamed: 0                         462 non-null    int64 \n",
      " 1   Date of Birth                      462 non-null    object\n",
      " 2   Gender                             462 non-null    object\n",
      " 3   State of Origin                    462 non-null    object\n",
      " 4   Local Government Area              462 non-null    object\n",
      " 5   Has Laptop                         462 non-null    object\n",
      " 6   Marital Status                     462 non-null    object\n",
      " 7   Highest Educational Qualification  462 non-null    object\n",
      " 8   Physically Challenged              462 non-null    object\n",
      " 9   Nature of Physical Challenge       9 non-null      object\n",
      " 10  ICT Proficiency                    462 non-null    int64 \n",
      " 11  Time Available for Training        462 non-null    object\n",
      " 12  Course of Interest                 462 non-null    object\n",
      " 13  Employment Status                  462 non-null    object\n",
      " 14  Declaration                        462 non-null    object\n",
      " 15  Registered Date                    462 non-null    object\n",
      "dtypes: int64(2), object(14)\n",
      "memory usage: 57.9+ KB\n"
     ]
    }
   ],
   "source": [
    "df.info()"
   ]
  },
  {
   "cell_type": "code",
   "execution_count": 4,
   "id": "b688d625-1af6-4c4e-9460-8e1253b8df90",
   "metadata": {},
   "outputs": [
    {
     "data": {
      "text/html": [
       "<div>\n",
       "<style scoped>\n",
       "    .dataframe tbody tr th:only-of-type {\n",
       "        vertical-align: middle;\n",
       "    }\n",
       "\n",
       "    .dataframe tbody tr th {\n",
       "        vertical-align: top;\n",
       "    }\n",
       "\n",
       "    .dataframe thead th {\n",
       "        text-align: right;\n",
       "    }\n",
       "</style>\n",
       "<table border=\"1\" class=\"dataframe\">\n",
       "  <thead>\n",
       "    <tr style=\"text-align: right;\">\n",
       "      <th></th>\n",
       "      <th>Unnamed: 0</th>\n",
       "      <th>Date of Birth</th>\n",
       "      <th>Gender</th>\n",
       "      <th>State of Origin</th>\n",
       "      <th>Local Government Area</th>\n",
       "      <th>Has Laptop</th>\n",
       "      <th>Marital Status</th>\n",
       "      <th>Highest Educational Qualification</th>\n",
       "      <th>Physically Challenged</th>\n",
       "      <th>Nature of Physical Challenge</th>\n",
       "      <th>ICT Proficiency</th>\n",
       "      <th>Time Available for Training</th>\n",
       "      <th>Course of Interest</th>\n",
       "      <th>Employment Status</th>\n",
       "      <th>Declaration</th>\n",
       "      <th>Registered Date</th>\n",
       "    </tr>\n",
       "  </thead>\n",
       "  <tbody>\n",
       "    <tr>\n",
       "      <th>count</th>\n",
       "      <td>462.000000</td>\n",
       "      <td>462</td>\n",
       "      <td>462</td>\n",
       "      <td>462</td>\n",
       "      <td>462</td>\n",
       "      <td>462</td>\n",
       "      <td>462</td>\n",
       "      <td>462</td>\n",
       "      <td>462</td>\n",
       "      <td>9</td>\n",
       "      <td>462.000000</td>\n",
       "      <td>462</td>\n",
       "      <td>462</td>\n",
       "      <td>462</td>\n",
       "      <td>462</td>\n",
       "      <td>462</td>\n",
       "    </tr>\n",
       "    <tr>\n",
       "      <th>unique</th>\n",
       "      <td>NaN</td>\n",
       "      <td>438</td>\n",
       "      <td>2</td>\n",
       "      <td>27</td>\n",
       "      <td>98</td>\n",
       "      <td>2</td>\n",
       "      <td>2</td>\n",
       "      <td>6</td>\n",
       "      <td>2</td>\n",
       "      <td>9</td>\n",
       "      <td>NaN</td>\n",
       "      <td>2</td>\n",
       "      <td>6</td>\n",
       "      <td>5</td>\n",
       "      <td>1</td>\n",
       "      <td>451</td>\n",
       "    </tr>\n",
       "    <tr>\n",
       "      <th>top</th>\n",
       "      <td>NaN</td>\n",
       "      <td>6/15/2003</td>\n",
       "      <td>male</td>\n",
       "      <td>Benue</td>\n",
       "      <td>Konshisha</td>\n",
       "      <td>no</td>\n",
       "      <td>single</td>\n",
       "      <td>Bachelor's Degree</td>\n",
       "      <td>no</td>\n",
       "      <td>Blind</td>\n",
       "      <td>NaN</td>\n",
       "      <td>12-Sep</td>\n",
       "      <td>Basic Computer Skills</td>\n",
       "      <td>student</td>\n",
       "      <td>Yes</td>\n",
       "      <td>10/12/2024 11:54</td>\n",
       "    </tr>\n",
       "    <tr>\n",
       "      <th>freq</th>\n",
       "      <td>NaN</td>\n",
       "      <td>4</td>\n",
       "      <td>284</td>\n",
       "      <td>271</td>\n",
       "      <td>38</td>\n",
       "      <td>287</td>\n",
       "      <td>329</td>\n",
       "      <td>255</td>\n",
       "      <td>453</td>\n",
       "      <td>1</td>\n",
       "      <td>NaN</td>\n",
       "      <td>275</td>\n",
       "      <td>166</td>\n",
       "      <td>146</td>\n",
       "      <td>462</td>\n",
       "      <td>3</td>\n",
       "    </tr>\n",
       "    <tr>\n",
       "      <th>mean</th>\n",
       "      <td>230.500000</td>\n",
       "      <td>NaN</td>\n",
       "      <td>NaN</td>\n",
       "      <td>NaN</td>\n",
       "      <td>NaN</td>\n",
       "      <td>NaN</td>\n",
       "      <td>NaN</td>\n",
       "      <td>NaN</td>\n",
       "      <td>NaN</td>\n",
       "      <td>NaN</td>\n",
       "      <td>4.495671</td>\n",
       "      <td>NaN</td>\n",
       "      <td>NaN</td>\n",
       "      <td>NaN</td>\n",
       "      <td>NaN</td>\n",
       "      <td>NaN</td>\n",
       "    </tr>\n",
       "    <tr>\n",
       "      <th>std</th>\n",
       "      <td>133.512172</td>\n",
       "      <td>NaN</td>\n",
       "      <td>NaN</td>\n",
       "      <td>NaN</td>\n",
       "      <td>NaN</td>\n",
       "      <td>NaN</td>\n",
       "      <td>NaN</td>\n",
       "      <td>NaN</td>\n",
       "      <td>NaN</td>\n",
       "      <td>NaN</td>\n",
       "      <td>2.460751</td>\n",
       "      <td>NaN</td>\n",
       "      <td>NaN</td>\n",
       "      <td>NaN</td>\n",
       "      <td>NaN</td>\n",
       "      <td>NaN</td>\n",
       "    </tr>\n",
       "    <tr>\n",
       "      <th>min</th>\n",
       "      <td>0.000000</td>\n",
       "      <td>NaN</td>\n",
       "      <td>NaN</td>\n",
       "      <td>NaN</td>\n",
       "      <td>NaN</td>\n",
       "      <td>NaN</td>\n",
       "      <td>NaN</td>\n",
       "      <td>NaN</td>\n",
       "      <td>NaN</td>\n",
       "      <td>NaN</td>\n",
       "      <td>1.000000</td>\n",
       "      <td>NaN</td>\n",
       "      <td>NaN</td>\n",
       "      <td>NaN</td>\n",
       "      <td>NaN</td>\n",
       "      <td>NaN</td>\n",
       "    </tr>\n",
       "    <tr>\n",
       "      <th>25%</th>\n",
       "      <td>115.250000</td>\n",
       "      <td>NaN</td>\n",
       "      <td>NaN</td>\n",
       "      <td>NaN</td>\n",
       "      <td>NaN</td>\n",
       "      <td>NaN</td>\n",
       "      <td>NaN</td>\n",
       "      <td>NaN</td>\n",
       "      <td>NaN</td>\n",
       "      <td>NaN</td>\n",
       "      <td>2.000000</td>\n",
       "      <td>NaN</td>\n",
       "      <td>NaN</td>\n",
       "      <td>NaN</td>\n",
       "      <td>NaN</td>\n",
       "      <td>NaN</td>\n",
       "    </tr>\n",
       "    <tr>\n",
       "      <th>50%</th>\n",
       "      <td>230.500000</td>\n",
       "      <td>NaN</td>\n",
       "      <td>NaN</td>\n",
       "      <td>NaN</td>\n",
       "      <td>NaN</td>\n",
       "      <td>NaN</td>\n",
       "      <td>NaN</td>\n",
       "      <td>NaN</td>\n",
       "      <td>NaN</td>\n",
       "      <td>NaN</td>\n",
       "      <td>5.000000</td>\n",
       "      <td>NaN</td>\n",
       "      <td>NaN</td>\n",
       "      <td>NaN</td>\n",
       "      <td>NaN</td>\n",
       "      <td>NaN</td>\n",
       "    </tr>\n",
       "    <tr>\n",
       "      <th>75%</th>\n",
       "      <td>345.750000</td>\n",
       "      <td>NaN</td>\n",
       "      <td>NaN</td>\n",
       "      <td>NaN</td>\n",
       "      <td>NaN</td>\n",
       "      <td>NaN</td>\n",
       "      <td>NaN</td>\n",
       "      <td>NaN</td>\n",
       "      <td>NaN</td>\n",
       "      <td>NaN</td>\n",
       "      <td>6.000000</td>\n",
       "      <td>NaN</td>\n",
       "      <td>NaN</td>\n",
       "      <td>NaN</td>\n",
       "      <td>NaN</td>\n",
       "      <td>NaN</td>\n",
       "    </tr>\n",
       "    <tr>\n",
       "      <th>max</th>\n",
       "      <td>461.000000</td>\n",
       "      <td>NaN</td>\n",
       "      <td>NaN</td>\n",
       "      <td>NaN</td>\n",
       "      <td>NaN</td>\n",
       "      <td>NaN</td>\n",
       "      <td>NaN</td>\n",
       "      <td>NaN</td>\n",
       "      <td>NaN</td>\n",
       "      <td>NaN</td>\n",
       "      <td>10.000000</td>\n",
       "      <td>NaN</td>\n",
       "      <td>NaN</td>\n",
       "      <td>NaN</td>\n",
       "      <td>NaN</td>\n",
       "      <td>NaN</td>\n",
       "    </tr>\n",
       "  </tbody>\n",
       "</table>\n",
       "</div>"
      ],
      "text/plain": [
       "        Unnamed: 0 Date of Birth Gender State of Origin Local Government Area  \\\n",
       "count   462.000000           462    462             462                   462   \n",
       "unique         NaN           438      2              27                    98   \n",
       "top            NaN     6/15/2003   male           Benue             Konshisha   \n",
       "freq           NaN             4    284             271                    38   \n",
       "mean    230.500000           NaN    NaN             NaN                   NaN   \n",
       "std     133.512172           NaN    NaN             NaN                   NaN   \n",
       "min       0.000000           NaN    NaN             NaN                   NaN   \n",
       "25%     115.250000           NaN    NaN             NaN                   NaN   \n",
       "50%     230.500000           NaN    NaN             NaN                   NaN   \n",
       "75%     345.750000           NaN    NaN             NaN                   NaN   \n",
       "max     461.000000           NaN    NaN             NaN                   NaN   \n",
       "\n",
       "       Has Laptop Marital Status Highest Educational Qualification  \\\n",
       "count         462            462                               462   \n",
       "unique          2              2                                 6   \n",
       "top            no         single                 Bachelor's Degree   \n",
       "freq          287            329                               255   \n",
       "mean          NaN            NaN                               NaN   \n",
       "std           NaN            NaN                               NaN   \n",
       "min           NaN            NaN                               NaN   \n",
       "25%           NaN            NaN                               NaN   \n",
       "50%           NaN            NaN                               NaN   \n",
       "75%           NaN            NaN                               NaN   \n",
       "max           NaN            NaN                               NaN   \n",
       "\n",
       "       Physically Challenged Nature of Physical Challenge  ICT Proficiency  \\\n",
       "count                    462                            9       462.000000   \n",
       "unique                     2                            9              NaN   \n",
       "top                       no                        Blind              NaN   \n",
       "freq                     453                            1              NaN   \n",
       "mean                     NaN                          NaN         4.495671   \n",
       "std                      NaN                          NaN         2.460751   \n",
       "min                      NaN                          NaN         1.000000   \n",
       "25%                      NaN                          NaN         2.000000   \n",
       "50%                      NaN                          NaN         5.000000   \n",
       "75%                      NaN                          NaN         6.000000   \n",
       "max                      NaN                          NaN        10.000000   \n",
       "\n",
       "       Time Available for Training     Course of Interest Employment Status  \\\n",
       "count                          462                    462               462   \n",
       "unique                           2                      6                 5   \n",
       "top                         12-Sep  Basic Computer Skills           student   \n",
       "freq                           275                    166               146   \n",
       "mean                           NaN                    NaN               NaN   \n",
       "std                            NaN                    NaN               NaN   \n",
       "min                            NaN                    NaN               NaN   \n",
       "25%                            NaN                    NaN               NaN   \n",
       "50%                            NaN                    NaN               NaN   \n",
       "75%                            NaN                    NaN               NaN   \n",
       "max                            NaN                    NaN               NaN   \n",
       "\n",
       "       Declaration   Registered Date  \n",
       "count          462               462  \n",
       "unique           1               451  \n",
       "top            Yes  10/12/2024 11:54  \n",
       "freq           462                 3  \n",
       "mean           NaN               NaN  \n",
       "std            NaN               NaN  \n",
       "min            NaN               NaN  \n",
       "25%            NaN               NaN  \n",
       "50%            NaN               NaN  \n",
       "75%            NaN               NaN  \n",
       "max            NaN               NaN  "
      ]
     },
     "execution_count": 4,
     "metadata": {},
     "output_type": "execute_result"
    }
   ],
   "source": [
    "df.describe(include='all')"
   ]
  },
  {
   "cell_type": "markdown",
   "id": "1dc0b2e0-6fae-4db2-8f56-167d9da6c36c",
   "metadata": {},
   "source": [
    "# Step 3: Handle Missing Values"
   ]
  },
  {
   "cell_type": "markdown",
   "id": "76bcc30a-3c2a-4bfb-9ae0-bd0ccb29c749",
   "metadata": {},
   "source": [
    "## ●\tFind missing values:"
   ]
  },
  {
   "cell_type": "code",
   "execution_count": 5,
   "id": "4433acbb-0b7f-4643-b20f-82a14f192ffe",
   "metadata": {},
   "outputs": [
    {
     "data": {
      "text/plain": [
       "Unnamed: 0                             0\n",
       "Date of Birth                          0\n",
       "Gender                                 0\n",
       "State of Origin                        0\n",
       "Local Government Area                  0\n",
       "Has Laptop                             0\n",
       "Marital Status                         0\n",
       "Highest Educational Qualification      0\n",
       "Physically Challenged                  0\n",
       "Nature of Physical Challenge         453\n",
       "ICT Proficiency                        0\n",
       "Time Available for Training            0\n",
       "Course of Interest                     0\n",
       "Employment Status                      0\n",
       "Declaration                            0\n",
       "Registered Date                        0\n",
       "dtype: int64"
      ]
     },
     "execution_count": 5,
     "metadata": {},
     "output_type": "execute_result"
    }
   ],
   "source": [
    "df.isnull().sum()"
   ]
  },
  {
   "cell_type": "code",
   "execution_count": 6,
   "id": "844820e8-3f10-4e68-ba77-c14111ff8e35",
   "metadata": {},
   "outputs": [],
   "source": [
    "df['ICT Proficiency'].fillna(df['ICT Proficiency'].mean(), inplace=True)"
   ]
  },
  {
   "cell_type": "code",
   "execution_count": 7,
   "id": "ee25e5c6-6ed7-49fc-9933-3f73a69f029d",
   "metadata": {},
   "outputs": [],
   "source": [
    "df['Course of Interest'].fillna(df['Course of Interest'].mode()[0], inplace=True)"
   ]
  },
  {
   "cell_type": "code",
   "execution_count": 8,
   "id": "714ffa81-0f73-491c-86b5-a27b01b7e45d",
   "metadata": {},
   "outputs": [],
   "source": [
    "df['Nature of Physical Challenge'].fillna(df['Nature of Physical Challenge'].mode()[0], inplace=True)"
   ]
  },
  {
   "cell_type": "code",
   "execution_count": 9,
   "id": "820b259d-487b-4d8e-8a14-3ad4e4a2b0c0",
   "metadata": {},
   "outputs": [
    {
     "data": {
      "text/plain": [
       "Unnamed: 0                           0\n",
       "Date of Birth                        0\n",
       "Gender                               0\n",
       "State of Origin                      0\n",
       "Local Government Area                0\n",
       "Has Laptop                           0\n",
       "Marital Status                       0\n",
       "Highest Educational Qualification    0\n",
       "Physically Challenged                0\n",
       "Nature of Physical Challenge         0\n",
       "ICT Proficiency                      0\n",
       "Time Available for Training          0\n",
       "Course of Interest                   0\n",
       "Employment Status                    0\n",
       "Declaration                          0\n",
       "Registered Date                      0\n",
       "dtype: int64"
      ]
     },
     "execution_count": 9,
     "metadata": {},
     "output_type": "execute_result"
    }
   ],
   "source": [
    "df.isnull().sum()"
   ]
  },
  {
   "cell_type": "markdown",
   "id": "8be7ef16-7de6-48e2-a7f3-32c2da110258",
   "metadata": {},
   "source": [
    "# Data Analysis & Visualization"
   ]
  },
  {
   "cell_type": "markdown",
   "id": "ccf5baa9-d151-4f07-a55b-e0c88dce4e56",
   "metadata": {},
   "source": [
    "## Step 4: Understand Applicant Demographics"
   ]
  },
  {
   "cell_type": "markdown",
   "id": "7cd906ae-0d53-4700-9d6e-04114590c674",
   "metadata": {},
   "source": [
    "## import matplotlib.pyplot as plt\n",
    "## import seaborn as sns\n"
   ]
  },
  {
   "cell_type": "markdown",
   "id": "1fffb2f4-7cf1-4ef0-a909-00d9862d63ea",
   "metadata": {},
   "source": [
    "### Gender distribution"
   ]
  },
  {
   "cell_type": "code",
   "execution_count": 10,
   "id": "96ee3269-f862-4ea9-84f0-019ab4c0a977",
   "metadata": {},
   "outputs": [
    {
     "data": {
      "image/png": "[encoded data removed]",
      "text/plain": [
       "<Figure size 640x480 with 1 Axes>"
      ]
     },
     "metadata": {},
     "output_type": "display_data"
    }
   ],
   "source": [
    "sns.countplot(x='Gender', data=df)\n",
    "plt.title(\"Gender Distribution of Applicants\")\n",
    "plt.show()"
   ]
  },
  {
   "cell_type": "markdown",
   "id": "31bdeb7c-2d1f-4a1d-bf11-3e6bf27e5cce",
   "metadata": {},
   "source": [
    "# Ploting Pie Chart"
   ]
  },
  {
   "cell_type": "code",
   "execution_count": 11,
   "id": "08fd15de-7d90-4120-b8e7-ac48087e3a7c",
   "metadata": {},
   "outputs": [
    {
     "data": {
      "image/png": "[encoded data removed]",
      "text/plain": [
       "<Figure size 640x480 with 1 Axes>"
      ]
     },
     "metadata": {},
     "output_type": "display_data"
    }
   ],
   "source": [
    "df['Highest Educational Qualification'].value_counts().plot.pie(autopct='%1.1f%%')\n",
    "plt.title(\"Educational Background of Applicants\")\n",
    "plt.show()"
   ]
  },
  {
   "cell_type": "markdown",
   "id": "166e9cff-6bb7-4232-9069-549456df5ac4",
   "metadata": {},
   "source": [
    "# Question: What percentage of applicants have a Bachelor's degree?"
   ]
  },
  {
   "cell_type": "markdown",
   "id": "34223f01-c73d-4825-ba89-bea48ad1e1a2",
   "metadata": {},
   "source": [
    "## Ans: About 55.2% of the populations has Bachelor's Degree"
   ]
  },
  {
   "cell_type": "markdown",
   "id": "40d59f86-52a9-4771-bc98-5087b5d0846a",
   "metadata": {},
   "source": [
    "# Step 5: Analyze ICT Proficiency Levels"
   ]
  },
  {
   "cell_type": "markdown",
   "id": "2e630023-fabf-4c64-b6fd-7036fb3bef42",
   "metadata": {},
   "source": [
    "## ●\tWhat is the average ICT Proficiency score by gender?"
   ]
  },
  {
   "cell_type": "code",
   "execution_count": 26,
   "id": "f48674a9-8c1e-4c41-8a1a-8f5baf460387",
   "metadata": {},
   "outputs": [
    {
     "name": "stderr",
     "output_type": "stream",
     "text": [
      "C:\\Users\\MGT\\anaconda3\\Lib\\site-packages\\seaborn\\_oldcore.py:1119: FutureWarning: use_inf_as_na option is deprecated and will be removed in a future version. Convert inf values to NaN before operating instead.\n",
      "  with pd.option_context('mode.use_inf_as_na', True):\n"
     ]
    },
    {
     "data": {
      "image/png": "[encoded data removed]",
      "text/plain": [
       "<Figure size 800x400 with 1 Axes>"
      ]
     },
     "metadata": {},
     "output_type": "display_data"
    }
   ],
   "source": [
    "# ICT Proficiency distribution\n",
    "plt.figure(figsize=(8, 4))\n",
    "sns.histplot(df['ICT Proficiency'], bins=10, kde=True, color='skyblue')\n",
    "plt.title(\"Distribution of ICT Proficiency Scores\")\n",
    "plt.xlabel(\"ICT Proficiency\")\n",
    "plt.ylabel(\"Number of Applicants\")\n",
    "plt.show()"
   ]
  },
  {
   "cell_type": "markdown",
   "id": "37d4a47f-6fa5-47eb-9d1f-4fe3d0633f19",
   "metadata": {},
   "source": [
    "## ●\tWhat is the most common proficiency level?"
   ]
  },
  {
   "cell_type": "markdown",
   "id": "04035114-6d6f-427c-8600-d8a581010fea",
   "metadata": {},
   "source": [
    "### Ans: The Common ICT Profficiency Level is 122"
   ]
  },
  {
   "cell_type": "markdown",
   "id": "8305f711-356c-42c8-9cc2-a7df4fa0cb72",
   "metadata": {},
   "source": [
    "# Question: Are male and female applicants equally skilled in ICT?"
   ]
  },
  {
   "cell_type": "code",
   "execution_count": null,
   "id": "d77cfa1d-cca1-42b0-b26e-af4d1ce14162",
   "metadata": {},
   "outputs": [],
   "source": []
  },
  {
   "cell_type": "markdown",
   "id": "b01da121-56af-48bb-9c18-15cbcda48694",
   "metadata": {},
   "source": [
    "## Step 6: Popular Courses"
   ]
  },
  {
   "cell_type": "markdown",
   "id": "08e31071-19ad-4de0-9dd7-3ad291ecb9ce",
   "metadata": {},
   "source": [
    "### Find the most popular course:"
   ]
  },
  {
   "cell_type": "code",
   "execution_count": 13,
   "id": "ace92610-a2e8-40d5-bba9-e5b771474334",
   "metadata": {},
   "outputs": [
    {
     "data": {
      "image/png": "[encoded data removed]",
      "text/plain": [
       "<Figure size 640x480 with 1 Axes>"
      ]
     },
     "metadata": {},
     "output_type": "display_data"
    }
   ],
   "source": [
    "df['Course of Interest'].value_counts().plot(kind='bar')\n",
    "plt.title(\"Most Popular Courses\")\n",
    "plt.ylabel(\"Number of Applicants\")\n",
    "plt.show()"
   ]
  },
  {
   "cell_type": "markdown",
   "id": "1f570dec-8dc5-4983-88aa-a24e2cd4afa2",
   "metadata": {},
   "source": [
    "### Question: Which course is the most in demand?"
   ]
  },
  {
   "cell_type": "markdown",
   "id": "4c3697eb-3ea9-453d-b4e4-a4e935bdafc4",
   "metadata": {},
   "source": [
    "# Reporting & Insights"
   ]
  },
  {
   "cell_type": "markdown",
   "id": "76d9977a-13ce-4116-bec9-9a78da283d7f",
   "metadata": {},
   "source": [
    "## Step 7: Finding Patterns"
   ]
  },
  {
   "cell_type": "markdown",
   "id": "97786a98-eedb-43d5-a1c2-d732eeb8082a",
   "metadata": {},
   "source": [
    "# Use groupby() to compare how different groups behave.\n",
    "●\tWhich state has the highest applicants?\n",
    "\n",
    "●\tDo students with higher education have better ICT proficiency?\n"
   ]
  },
  {
   "cell_type": "code",
   "execution_count": 14,
   "id": "ef2fb01c-a1a7-4266-add3-b62be2460300",
   "metadata": {},
   "outputs": [
    {
     "data": {
      "text/plain": [
       "State of Origin\n",
       "Benue          271\n",
       "Benue state     59\n",
       "BENUE           53\n",
       "Benue State     40\n",
       "BENUE STATE      8\n",
       "Enugu            5\n",
       "KOGI             3\n",
       "benue            2\n",
       "Ogun             2\n",
       "Kogi             2\n",
       "dtype: int64"
      ]
     },
     "execution_count": 14,
     "metadata": {},
     "output_type": "execute_result"
    }
   ],
   "source": [
    "df.groupby('State of Origin').size().sort_values(ascending=False).head(10)"
   ]
  },
  {
   "cell_type": "markdown",
   "id": "5ef40627-2a6f-4229-9701-85292c336442",
   "metadata": {},
   "source": [
    "#### The state with the highest qualification is Benue State"
   ]
  },
  {
   "cell_type": "code",
   "execution_count": 15,
   "id": "0fa8a51c-bb9c-4f65-bb8c-e84cafd6a2d3",
   "metadata": {},
   "outputs": [
    {
     "data": {
      "text/plain": [
       "Highest Educational Qualification\n",
       "Bachelor's Degree                    4.874510\n",
       "First School Leaving Certificate     3.727273\n",
       "Higher National Diploma              4.666667\n",
       "National Certificate of Education    3.050000\n",
       "National Diploma                     3.875000\n",
       "Senior School Certificate            4.230769\n",
       "Name: ICT Proficiency, dtype: float64"
      ]
     },
     "execution_count": 15,
     "metadata": {},
     "output_type": "execute_result"
    }
   ],
   "source": [
    "df.groupby('Highest Educational Qualification')['ICT Proficiency'].mean()"
   ]
  },
  {
   "cell_type": "markdown",
   "id": "05998296-0332-4d70-af6a-dc25788b7bca",
   "metadata": {},
   "source": [
    "#### Yes, students with higher education have better ICT proficiency"
   ]
  },
  {
   "cell_type": "markdown",
   "id": "083e982c-6a62-423e-a9be-1484449f9604",
   "metadata": {},
   "source": [
    "# Question: Which state dominates in applications?"
   ]
  },
  {
   "cell_type": "markdown",
   "id": "7b269943-6b16-4f1b-9b28-c42d306c388a",
   "metadata": {},
   "source": [
    "#### The state that dominates the Application is Benue State"
   ]
  },
  {
   "cell_type": "markdown",
   "id": "233a4e72-a931-4dbf-b6e2-c947a58c9182",
   "metadata": {},
   "source": [
    "# Step 8: Creating a Simple Report"
   ]
  },
  {
   "cell_type": "markdown",
   "id": "58170745-10b2-4937-b1d9-c9fcbb7af9de",
   "metadata": {},
   "source": [
    " ## ●\tA table summarizing key statistics (using .describe()).\n",
    "\n",
    " ### ●\tAt least one interesting insight (e.g., \"More than 50% of applicants prefer Frontend Web Development\").\n",
    "\n",
    "### ●\tA recommendation (e.g., \"Since many applicants choose Data Analysis, we should provide more training resources for it\")."
   ]
  },
  {
   "cell_type": "code",
   "execution_count": 22,
   "id": "d989c7ad-f37a-4736-80ba-74b3ee3a1dcd",
   "metadata": {},
   "outputs": [
    {
     "name": "stdout",
     "output_type": "stream",
     "text": [
      "\n",
      "# Scholarship Applicants Data Analysis Report\n",
      "\n",
      "## Summary Statistics\n",
      "\n",
      "| Column | Count | Unique | Top | Freq | Mean | Std | Min | 25% | 50% | 75% | Max |\n",
      "|--------|-------|--------|-----|------|------|-----|-----|-----|-----|-----|-----|\n",
      "| Unnamed: 0 | 462.0 | nan | nan | nan | 230.5 | 133.51217172977152 | 0.0 | 115.25 | 230.5 | 345.75 | 461.0 |\n",
      "| Date of Birth | 462 | 438 | 6/15/2003 | 4 | nan | nan | nan | nan | nan | nan | nan |\n",
      "| Gender | 462 | 2 | male | 284 | nan | nan | nan | nan | nan | nan | nan |\n",
      "| State of Origin | 462 | 27 | Benue | 271 | nan | nan | nan | nan | nan | nan | nan |\n",
      "| Local Government Area | 462 | 98 | Konshisha | 38 | nan | nan | nan | nan | nan | nan | nan |\n",
      "| Has Laptop | 462 | 2 | no | 287 | nan | nan | nan | nan | nan | nan | nan |\n",
      "| Marital Status | 462 | 2 | single | 329 | nan | nan | nan | nan | nan | nan | nan |\n",
      "| Highest Educational Qualification | 462 | 6 | Bachelor's Degree | 255 | nan | nan | nan | nan | nan | nan | nan |\n",
      "| Physically Challenged | 462 | 2 | no | 453 | nan | nan | nan | nan | nan | nan | nan |\n",
      "| Nature of Physical Challenge | 462 | 9 | Amputation | 454 | nan | nan | nan | nan | nan | nan | nan |\n",
      "| ICT Proficiency | 462.0 | nan | nan | nan | 4.495670995670996 | 2.4607510545954687 | 1.0 | 2.0 | 5.0 | 6.0 | 10.0 |\n",
      "| Time Available for Training | 462 | 2 | 12-Sep | 275 | nan | nan | nan | nan | nan | nan | nan |\n",
      "| Course of Interest | 462 | 6 | Basic Computer Skills | 166 | nan | nan | nan | nan | nan | nan | nan |\n",
      "| Employment Status | 462 | 5 | student | 146 | nan | nan | nan | nan | nan | nan | nan |\n",
      "| Declaration | 462 | 1 | Yes | 462 | nan | nan | nan | nan | nan | nan | nan |\n",
      "| Registered Date | 462 | 451 | 10/12/2024 11:54 | 3 | nan | nan | nan | nan | nan | nan | nan |\n",
      "\n",
      "\n",
      "## Interesting Insight:\n",
      "\n",
      "More than 30% of applicants prefer courses in data analysis (SPSS, Python), indicating a strong demand for data-focused training.\n",
      "\n",
      "## Recommendation:\n",
      "\n",
      "Given the high interest in data analysis, it would be beneficial to provide more training resources and mentorship opportunities in data-related fields.\n",
      "\n",
      "Report has been saved as 'scholarship_report.md'\n"
     ]
    }
   ],
   "source": [
    "# Generate markdown report\n",
    "report_md = f\"\"\"\n",
    "# Scholarship Applicants Data Analysis Report\n",
    "\n",
    "## Summary Statistics\n",
    "\n",
    "| Column | Count | Unique | Top | Freq | Mean | Std | Min | 25% | 50% | 75% | Max |\n",
    "|--------|-------|--------|-----|------|------|-----|-----|-----|-----|-----|-----|\n",
    "\"\"\"\n",
    "\n",
    "for col in summary_statistics.index:\n",
    "    row = summary_statistics.loc[col]\n",
    "    report_md += f\"| {col} | {row['count']} | {row.get('unique', 'NA')} | {row.get('top', 'NA')} | {row.get('freq', 'NA')} | {row.get('mean', 'NA')} | {row.get('std', 'NA')} | {row.get('min', 'NA')} | {row.get('25%', 'NA')} | {row.get('50%', 'NA')} | {row.get('75%', 'NA')} | {row.get('max', 'NA')} |\\n\"\n",
    "\n",
    "insight = \"Interesting Insight:\\n\\nMore than 30% of applicants prefer courses in data analysis (SPSS, Python), indicating a strong demand for data-focused training.\"\n",
    "\n",
    "recommendation = \"Recommendation:\\n\\nGiven the high interest in data analysis, it would be beneficial to provide more training resources and mentorship opportunities in data-related fields.\"\n",
    "\n",
    "report_md += f\"\\n\\n## {insight}\\n\\n## {recommendation}\"\n",
    "\n",
    "# Print the report (or save to a file if you like!)\n",
    "print(report_md)\n",
    "\n",
    "# Optional: Save the report as a markdown file\n",
    "with open(\"scholarship_report.md\", \"w\") as f:\n",
    "    f.write(report_md)\n",
    "\n",
    "print(\"\\nReport has been saved as 'scholarship_report.md'\")"
   ]
  },
  {
   "cell_type": "markdown",
   "id": "5f706a6a-a5f9-4fd8-940d-e61529484a9b",
   "metadata": {},
   "source": [
    "# Challenges"
   ]
  },
  {
   "cell_type": "markdown",
   "id": "2fab832a-b0e5-4eaf-8062-f933a39e9d3f",
   "metadata": {},
   "source": [
    "## 1.\tPredict ICT Proficiency\n",
    "\n",
    "○\tUse LinearRegression from sklearn to predict ICT Proficiency based on education and age."
   ]
  },
  {
   "cell_type": "code",
   "execution_count": 28,
   "id": "9a889108-bb99-45af-a930-b7ef2a099c69",
   "metadata": {},
   "outputs": [],
   "source": [
    "# Convert Date of Birth to datetime and calculate Age\n",
    "\n",
    "df['Date of Birth'] = pd.to_datetime(df['Date of Birth'], errors='coerce')\n",
    "current_year = pd.Timestamp.now().year\n",
    "df['Age'] = current_year - df['Date of Birth'].dt.year\n"
   ]
  },
  {
   "cell_type": "code",
   "execution_count": 29,
   "id": "e9e25598-ca10-44d4-8029-b4fa6a88abbd",
   "metadata": {},
   "outputs": [],
   "source": [
    "# Encode 'Highest Educational Qualification' using LabelEncoder\n",
    "le = LabelEncoder()\n",
    "df['Education_Level'] = le.fit_transform(df['Highest Educational Qualification'])\n"
   ]
  },
  {
   "cell_type": "code",
   "execution_count": 30,
   "id": "1a15d2d4-bbcc-465f-85b6-d13128bd72e4",
   "metadata": {},
   "outputs": [],
   "source": [
    "# Prepare the features (Education_Level and Age) and target (ICT Proficiency)\n",
    "features = df[['Education_Level', 'Age']]\n",
    "target = df['ICT Proficiency']"
   ]
  },
  {
   "cell_type": "code",
   "execution_count": 31,
   "id": "e85f19ea-b054-42cf-b8e2-b5ada92b6fb2",
   "metadata": {},
   "outputs": [],
   "source": [
    "# Drop rows with missing Age values (if any)\n",
    "features = features.dropna()\n",
    "target = target[features.index]"
   ]
  },
  {
   "cell_type": "code",
   "execution_count": 32,
   "id": "d0bb35a0-49da-4ba8-9599-ca6503b81b46",
   "metadata": {},
   "outputs": [],
   "source": [
    "# Train-test split\n",
    "X_train, X_test, y_train, y_test = train_test_split(features, target, test_size=0.2, random_state=42)"
   ]
  },
  {
   "cell_type": "code",
   "execution_count": 33,
   "id": "23b5e257-6b0d-42f4-903b-2ee1e96ac962",
   "metadata": {},
   "outputs": [
    {
     "data": {
      "text/html": [
       "<style>#sk-container-id-1 {color: black;background-color: white;}#sk-container-id-1 pre{padding: 0;}#sk-container-id-1 div.sk-toggleable {background-color: white;}#sk-container-id-1 label.sk-toggleable__label {cursor: pointer;display: block;width: 100%;margin-bottom: 0;padding: 0.3em;box-sizing: border-box;text-align: center;}#sk-container-id-1 label.sk-toggleable__label-arrow:before {content: \"▸\";float: left;margin-right: 0.25em;color: #696969;}#sk-container-id-1 label.sk-toggleable__label-arrow:hover:before {color: black;}#sk-container-id-1 div.sk-estimator:hover label.sk-toggleable__label-arrow:before {color: black;}#sk-container-id-1 div.sk-toggleable__content {max-height: 0;max-width: 0;overflow: hidden;text-align: left;background-color: #f0f8ff;}#sk-container-id-1 div.sk-toggleable__content pre {margin: 0.2em;color: black;border-radius: 0.25em;background-color: #f0f8ff;}#sk-container-id-1 input.sk-toggleable__control:checked~div.sk-toggleable__content {max-height: 200px;max-width: 100%;overflow: auto;}#sk-container-id-1 input.sk-toggleable__control:checked~label.sk-toggleable__label-arrow:before {content: \"▾\";}#sk-container-id-1 div.sk-estimator input.sk-toggleable__control:checked~label.sk-toggleable__label {background-color: #d4ebff;}#sk-container-id-1 div.sk-label input.sk-toggleable__control:checked~label.sk-toggleable__label {background-color: #d4ebff;}#sk-container-id-1 input.sk-hidden--visually {border: 0;clip: rect(1px 1px 1px 1px);clip: rect(1px, 1px, 1px, 1px);height: 1px;margin: -1px;overflow: hidden;padding: 0;position: absolute;width: 1px;}#sk-container-id-1 div.sk-estimator {font-family: monospace;background-color: #f0f8ff;border: 1px dotted black;border-radius: 0.25em;box-sizing: border-box;margin-bottom: 0.5em;}#sk-container-id-1 div.sk-estimator:hover {background-color: #d4ebff;}#sk-container-id-1 div.sk-parallel-item::after {content: \"\";width: 100%;border-bottom: 1px solid gray;flex-grow: 1;}#sk-container-id-1 div.sk-label:hover label.sk-toggleable__label {background-color: #d4ebff;}#sk-container-id-1 div.sk-serial::before {content: \"\";position: absolute;border-left: 1px solid gray;box-sizing: border-box;top: 0;bottom: 0;left: 50%;z-index: 0;}#sk-container-id-1 div.sk-serial {display: flex;flex-direction: column;align-items: center;background-color: white;padding-right: 0.2em;padding-left: 0.2em;position: relative;}#sk-container-id-1 div.sk-item {position: relative;z-index: 1;}#sk-container-id-1 div.sk-parallel {display: flex;align-items: stretch;justify-content: center;background-color: white;position: relative;}#sk-container-id-1 div.sk-item::before, #sk-container-id-1 div.sk-parallel-item::before {content: \"\";position: absolute;border-left: 1px solid gray;box-sizing: border-box;top: 0;bottom: 0;left: 50%;z-index: -1;}#sk-container-id-1 div.sk-parallel-item {display: flex;flex-direction: column;z-index: 1;position: relative;background-color: white;}#sk-container-id-1 div.sk-parallel-item:first-child::after {align-self: flex-end;width: 50%;}#sk-container-id-1 div.sk-parallel-item:last-child::after {align-self: flex-start;width: 50%;}#sk-container-id-1 div.sk-parallel-item:only-child::after {width: 0;}#sk-container-id-1 div.sk-dashed-wrapped {border: 1px dashed gray;margin: 0 0.4em 0.5em 0.4em;box-sizing: border-box;padding-bottom: 0.4em;background-color: white;}#sk-container-id-1 div.sk-label label {font-family: monospace;font-weight: bold;display: inline-block;line-height: 1.2em;}#sk-container-id-1 div.sk-label-container {text-align: center;}#sk-container-id-1 div.sk-container {/* jupyter's `normalize.less` sets `[hidden] { display: none; }` but bootstrap.min.css set `[hidden] { display: none !important; }` so we also need the `!important` here to be able to override the default hidden behavior on the sphinx rendered scikit-learn.org. See: https://github.com/scikit-learn/scikit-learn/issues/21755 */display: inline-block !important;position: relative;}#sk-container-id-1 div.sk-text-repr-fallback {display: none;}</style><div id=\"sk-container-id-1\" class=\"sk-top-container\"><div class=\"sk-text-repr-fallback\"><pre>LinearRegression()</pre><b>In a Jupyter environment, please rerun this cell to show the HTML representation or trust the notebook. <br />On GitHub, the HTML representation is unable to render, please try loading this page with nbviewer.org.</b></div><div class=\"sk-container\" hidden><div class=\"sk-item\"><div class=\"sk-estimator sk-toggleable\"><input class=\"sk-toggleable__control sk-hidden--visually\" id=\"sk-estimator-id-1\" type=\"checkbox\" checked><label for=\"sk-estimator-id-1\" class=\"sk-toggleable__label sk-toggleable__label-arrow\">LinearRegression</label><div class=\"sk-toggleable__content\"><pre>LinearRegression()</pre></div></div></div></div></div>"
      ],
      "text/plain": [
       "LinearRegression()"
      ]
     },
     "execution_count": 33,
     "metadata": {},
     "output_type": "execute_result"
    }
   ],
   "source": [
    "# Create and train Linear Regression model\n",
    "model = LinearRegression()\n",
    "model.fit(X_train, y_train)"
   ]
  },
  {
   "cell_type": "code",
   "execution_count": 34,
   "id": "d605ce90-677f-4a89-971f-5907a9e4f116",
   "metadata": {},
   "outputs": [],
   "source": [
    "# Make predictions\n",
    "y_pred = model.predict(X_test)"
   ]
  },
  {
   "cell_type": "code",
   "execution_count": 35,
   "id": "62d02318-52ea-452a-9d77-f25e4ce1e3f2",
   "metadata": {},
   "outputs": [],
   "source": [
    "# Evaluate the model\n",
    "mse = mean_squared_error(y_test, y_pred)\n",
    "r2 = r2_score(y_test, y_pred)"
   ]
  },
  {
   "cell_type": "code",
   "execution_count": 36,
   "id": "ecccbf86-0899-4bb1-a18d-4ce8cc3d4a8c",
   "metadata": {},
   "outputs": [
    {
     "name": "stdout",
     "output_type": "stream",
     "text": [
      "Mean Squared Error (MSE): 6.210458781129068\n",
      "R-squared Score: -0.0011230849141781185\n",
      "Model Coefficients: [-0.1654673  -0.02073334]\n",
      "Model Intercept: 5.344610670502403\n"
     ]
    }
   ],
   "source": [
    "print(f\"Mean Squared Error (MSE): {mse}\")\n",
    "print(f\"R-squared Score: {r2}\")\n",
    "print(f\"Model Coefficients: {model.coef_}\")\n",
    "print(f\"Model Intercept: {model.intercept_}\")"
   ]
  },
  {
   "cell_type": "code",
   "execution_count": 37,
   "id": "0868c18b-4500-43dc-bb0d-e19cbaefada2",
   "metadata": {},
   "outputs": [
    {
     "data": {
      "image/png": "[encoded data removed]",
      "text/plain": [
       "<Figure size 600x400 with 1 Axes>"
      ]
     },
     "metadata": {},
     "output_type": "display_data"
    }
   ],
   "source": [
    "# Optional: Plot actual vs predicted ICT Proficiency\n",
    "plt.figure(figsize=(6, 4))\n",
    "plt.scatter(y_test, y_pred, color='skyblue', edgecolor='black')\n",
    "plt.xlabel(\"Actual ICT Proficiency\")\n",
    "plt.ylabel(\"Predicted ICT Proficiency\")\n",
    "plt.title(\"Actual vs. Predicted ICT Proficiency\")\n",
    "plt.plot([y_test.min(), y_test.max()], [y_test.min(), y_test.max()], color='red', linestyle='--')\n",
    "plt.show()"
   ]
  },
  {
   "cell_type": "code",
   "execution_count": null,
   "id": "a43c3b21-4173-496e-85e1-d5d9e50d9c63",
   "metadata": {},
   "outputs": [],
   "source": []
  }
 ],
 "metadata": {
  "kernelspec": {
   "display_name": "Python 3 (ipykernel)",
   "language": "python",
   "name": "python3"
  },
  "language_info": {
   "codemirror_mode": {
    "name": "ipython",
    "version": 3
   },
   "file_extension": ".py",
   "mimetype": "text/x-python",
   "name": "python",
   "nbconvert_exporter": "python",
   "pygments_lexer": "ipython3",
   "version": "3.11.7"
  }
 },
 "nbformat": 4,
 "nbformat_minor": 5
}
